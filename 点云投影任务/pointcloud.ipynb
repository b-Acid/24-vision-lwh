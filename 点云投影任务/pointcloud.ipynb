{
 "cells": [
  {
   "cell_type": "code",
   "execution_count": 417,
   "metadata": {},
   "outputs": [],
   "source": [
    "import pandas as pd\n",
    "import cv2\n",
    "import numpy as np"
   ]
  },
  {
   "cell_type": "code",
   "execution_count": 418,
   "metadata": {},
   "outputs": [],
   "source": [
    "w=2000\n",
    "h=1000\n",
    "\n",
    "CameraExtrinsicMat=np.array(\n",
    "    ([ -7.1907391850483116e-03, 1.0494953004635377e-02, 9.9991907134097757e-01, 1.0984281510814174e-01],\n",
    "    [-9.9997142335005851e-01, 2.2580773589691017e-03,-7.2148159989590677e-03, -1.8261670813403203e-02],\n",
    "    [-2.3336137706425064e-03, -9.9994237686382270e-01,1.0478415848689249e-02, 1.7323651488230618e-01],\n",
    "    [ 0., 0., 0., 1. ]))\n",
    "CameraMat=np.array((\n",
    "    [ 1.3859739625395162e+03, 0, 9.3622464596653492e+02],\n",
    "    [0,1.3815353250336800e+03, 4.9459467170828475e+02],\n",
    "    [ 0, 0, 1 ]))\n",
    "distortion_coefficients=np.array([ 7.0444095385902794e-02, -1.8010798300183417e-01,\n",
    "       -7.7001990711544465e-03, -2.2524968464184810e-03,\n",
    "       1.4838608095798808e-01 ])"
   ]
  },
  {
   "cell_type": "code",
   "execution_count": 419,
   "metadata": {},
   "outputs": [],
   "source": [
    "for p in [\"one\",\"two\",\"three\",\"four\"]:\n",
    "    for j in range(5):\n",
    "        #读取\n",
    "        file=\"智能感知激光雷达任务数据/\"+p+\"/cloud_\"+str(j)+\".csv\"\n",
    "        index=[]\n",
    "        for i in range(len(file)):\n",
    "            if file[i] == '/':\n",
    "                index.append(i-len(file)+1)\n",
    "        name=file[index[0]:-4]\n",
    "        data=pd.read_csv(file).to_numpy()\n",
    "        data=np.column_stack((data,np.ones([data.shape[0],1])))\n",
    "        data1=np.copy(data[:,0:2])\n",
    "\n",
    "        #坐标变换\n",
    "        for i in range(data.shape[0]):\n",
    "            temp=(data[i,:]).T\n",
    "            point=np.matmul(temp,CameraExtrinsicMat)\n",
    "            point=np.matmul(point[0:3],CameraMat)/point[2]\n",
    "            data1[i,:]=point[0:2]\n",
    "\n",
    "\n",
    "        #选择像素框内的\n",
    "        x = data1[:,0]\n",
    "        y = data1[:,1]\n",
    "\n",
    "        temp=np.copy(x)\n",
    "        x = x[np.where((temp>-w/2)&(temp<w/2))]\n",
    "        y = y[np.where((temp>-w/2)&(temp<w/2))]\n",
    "\n",
    "        temp=np.copy(y)\n",
    "        x = x[np.where((temp>-h/2)&(temp<h/2))]\n",
    "        y = y[np.where((temp>-h/2)&(temp<h/2))]\n",
    "\n",
    "        PixPoint=np.column_stack((x,y))\n",
    "\n",
    "\n",
    "\n",
    "        #输出图片\n",
    "        img=np.zeros((h,w,1),np.uint8)\n",
    "        for i in range(PixPoint.shape[0]):\n",
    "            img[int(PixPoint[i,1]+h/2),int(PixPoint[i,0]+w/2),0]=255\n",
    "            if int(PixPoint[i,1]+h/2)!=h-1:\n",
    "                img[int(PixPoint[i,1]+h/2)+1,int(PixPoint[i,0]+w/2),0]=255\n",
    "            if int(PixPoint[i,1]+h/2)!=0:\n",
    "                img[int(PixPoint[i,1]+h/2)-1,int(PixPoint[i,0]+w/2),0]=255\n",
    "            if int(PixPoint[i,0]+w/2)!=w-1:\n",
    "                img[int(PixPoint[i,1]+h/2),int(PixPoint[i,0]+w/2)+1,0]=255\n",
    "            if int(PixPoint[i,0]+w/2)!=0:\n",
    "                img[int(PixPoint[i,1]+h/2),int(PixPoint[i,0]+w/2)-1,0]=255\n",
    "        cv2.imwrite(\"outputs/\"+name+\".jpg\",img)\n"
   ]
  }
 ],
 "metadata": {
  "kernelspec": {
   "display_name": "base",
   "language": "python",
   "name": "python3"
  },
  "language_info": {
   "codemirror_mode": {
    "name": "ipython",
    "version": 3
   },
   "file_extension": ".py",
   "mimetype": "text/x-python",
   "name": "python",
   "nbconvert_exporter": "python",
   "pygments_lexer": "ipython3",
   "version": "3.11.5"
  }
 },
 "nbformat": 4,
 "nbformat_minor": 2
}
